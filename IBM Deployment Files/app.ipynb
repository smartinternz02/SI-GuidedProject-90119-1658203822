{
 "cells": [
  {
   "cell_type": "code",
   "execution_count": 17,
   "id": "a23230ae",
   "metadata": {},
   "outputs": [],
   "source": [
    "from flask import Flask, render_template, request\n",
    "import numpy as np\n",
    "import pickle\n",
    "import requests\n",
    "import pandas as pd"
   ]
  },
  {
   "cell_type": "code",
   "execution_count": 18,
   "id": "babd3dc7",
   "metadata": {},
   "outputs": [],
   "source": [
    "model = pickle.load(open('milk.pkl','rb'))\n",
    "app = Flask(__name__)"
   ]
  },
  {
   "cell_type": "code",
   "execution_count": 19,
   "id": "50e61257",
   "metadata": {},
   "outputs": [],
   "source": [
    "@app.route('/')\n",
    "def home():\n",
    "    return render_template('home.html')\n",
    "@app.route(\"/pred\")\n",
    "def pred():\n",
    "    return render_template('predict.html')"
   ]
  },
  {
   "cell_type": "code",
   "execution_count": 20,
   "id": "9bcb42d8",
   "metadata": {},
   "outputs": [],
   "source": [
    "@app.route(\"/predict\",methods=['POST'])\n",
    "def predict():\n",
    "    x=[]\n",
    "    x.append(request.form['ph'])\n",
    "    x.append(request.form['temperature'])\n",
    "    x.append(request.form['taste'])\n",
    "    x.append(request.form['odor'])\n",
    "    x.append(request.form['fat'])\n",
    "    x.append(request.form['turbidity'])\n",
    "    x.append(request.form['colour'])\n",
    "    x = np.array([x])\n",
    "    pred = model.predict(x)\n",
    "    if pred=='Good':\n",
    "        res='Good'\n",
    "    elif pred=='Moderate':\n",
    "        res='Moderate'\n",
    "    else:\n",
    "        res='Bad'\n",
    "    return render_template('submit.html',prediction=res)"
   ]
  },
  {
   "cell_type": "code",
   "execution_count": null,
   "id": "b52ab7a2",
   "metadata": {},
   "outputs": [
    {
     "name": "stdout",
     "output_type": "stream",
     "text": [
      " * Serving Flask app \"__main__\" (lazy loading)\n",
      " * Environment: production\n",
      "\u001b[31m   WARNING: This is a development server. Do not use it in a production deployment.\u001b[0m\n",
      "\u001b[2m   Use a production WSGI server instead.\u001b[0m\n",
      " * Debug mode: off\n"
     ]
    },
    {
     "name": "stderr",
     "output_type": "stream",
     "text": [
      " * Running on http://127.0.0.1:5000/ (Press CTRL+C to quit)\n",
      "127.0.0.1 - - [02/Nov/2022 21:21:00] \"GET / HTTP/1.1\" 200 -\n",
      "127.0.0.1 - - [02/Nov/2022 21:21:08] \"GET /pred HTTP/1.1\" 200 -\n",
      "C:\\Users\\durga\\anaconda3\\lib\\site-packages\\sklearn\\base.py:450: UserWarning: X does not have valid feature names, but SVC was fitted with feature names\n",
      "  warnings.warn(\n",
      "127.0.0.1 - - [02/Nov/2022 21:21:23] \"POST /predict HTTP/1.1\" 200 -\n",
      "127.0.0.1 - - [02/Nov/2022 21:21:28] \"GET / HTTP/1.1\" 200 -\n",
      "127.0.0.1 - - [02/Nov/2022 21:21:30] \"GET /pred HTTP/1.1\" 200 -\n",
      "C:\\Users\\durga\\anaconda3\\lib\\site-packages\\sklearn\\base.py:450: UserWarning: X does not have valid feature names, but SVC was fitted with feature names\n",
      "  warnings.warn(\n",
      "127.0.0.1 - - [02/Nov/2022 21:21:49] \"POST /predict HTTP/1.1\" 200 -\n",
      "127.0.0.1 - - [02/Nov/2022 21:21:55] \"GET / HTTP/1.1\" 200 -\n",
      "127.0.0.1 - - [02/Nov/2022 21:21:57] \"GET /pred HTTP/1.1\" 200 -\n",
      "C:\\Users\\durga\\anaconda3\\lib\\site-packages\\sklearn\\base.py:450: UserWarning: X does not have valid feature names, but SVC was fitted with feature names\n",
      "  warnings.warn(\n",
      "127.0.0.1 - - [02/Nov/2022 21:22:12] \"POST /predict HTTP/1.1\" 200 -\n",
      "127.0.0.1 - - [02/Nov/2022 21:22:21] \"GET /pred HTTP/1.1\" 200 -\n",
      "C:\\Users\\durga\\anaconda3\\lib\\site-packages\\sklearn\\base.py:450: UserWarning: X does not have valid feature names, but SVC was fitted with feature names\n",
      "  warnings.warn(\n",
      "127.0.0.1 - - [02/Nov/2022 21:22:32] \"POST /predict HTTP/1.1\" 200 -\n"
     ]
    }
   ],
   "source": [
    "if __name__ ==\"__main__\":\n",
    "    app.run(debug=False)"
   ]
  },
  {
   "cell_type": "code",
   "execution_count": null,
   "id": "2991373c",
   "metadata": {},
   "outputs": [],
   "source": []
  }
 ],
 "metadata": {
  "kernelspec": {
   "display_name": "Python 3 (ipykernel)",
   "language": "python",
   "name": "python3"
  },
  "language_info": {
   "codemirror_mode": {
    "name": "ipython",
    "version": 3
   },
   "file_extension": ".py",
   "mimetype": "text/x-python",
   "name": "python",
   "nbconvert_exporter": "python",
   "pygments_lexer": "ipython3",
   "version": "3.9.12"
  }
 },
 "nbformat": 4,
 "nbformat_minor": 5
}
